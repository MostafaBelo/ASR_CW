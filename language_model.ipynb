{
 "cells": [
  {
   "cell_type": "code",
   "execution_count": 1,
   "id": "f030bd81",
   "metadata": {},
   "outputs": [],
   "source": [
    "import glob"
   ]
  },
  {
   "cell_type": "code",
   "execution_count": 2,
   "id": "fffec0e9",
   "metadata": {},
   "outputs": [],
   "source": [
    "class LanguageModel:\n",
    "    def __init__(self):\n",
    "        self.start_words = {}\n",
    "        self.end_words = {}\n",
    "        \n",
    "        self.start_words_count = 0\n",
    "        self.end_words_count = 0\n",
    "        self.words_count = 0\n",
    "        \n",
    "        self.scan()\n",
    "    \n",
    "    def scan(self, folder = '/group/teaching/asr/labs/recordings'):\n",
    "        with open(\"lexicon.txt\", 'r') as f:\n",
    "            for line in f:\n",
    "                line = line.split()\n",
    "                self.start_words[line[0]] = 0  # initialize frequency for each word with zero\n",
    "                self.end_words[line[0]] = 0\n",
    "                \n",
    "        files = glob.glob(f'{folder}/*.txt')\n",
    "        for file in files:\n",
    "            with open(file, 'r') as f:\n",
    "                transcription = f.readline().strip()\n",
    "            \n",
    "            transcription = transcription.split(\" \")\n",
    "            \n",
    "            self.start_words[transcription[0]] += 1\n",
    "            self.start_words_count += 1\n",
    "            \n",
    "            self.end_words[transcription[-1]] += 1\n",
    "            self.end_words_count += 1\n",
    "    \n",
    "    def getStartWordsFrequency(self):\n",
    "        return self.start_words\n",
    "    \n",
    "    def getEndWordsFrequency(self):\n",
    "        return self.end_words\n",
    "    \n",
    "    def get_start_word_freq(self, word):\n",
    "        if word in self.start_words:\n",
    "            return self.start_words[word]\n",
    "        return 0\n",
    "    \n",
    "    def get_end_word_freq(self, word):\n",
    "        if word in self.end_words:\n",
    "            return self.end_words[word]\n",
    "        return 0\n",
    "    \n",
    "    def get_start_word_prob(self, word):\n",
    "        return self.get_start_word_freq(word) / self.start_word_count\n",
    "    \n",
    "    def get_end_word_prob(self, word):\n",
    "        return self.get_end_word_freq(word) / self.end_word_count"
   ]
  },
  {
   "cell_type": "code",
   "execution_count": 3,
   "id": "c654ecb2",
   "metadata": {},
   "outputs": [
    {
     "data": {
      "text/plain": [
       "25"
      ]
     },
     "execution_count": 3,
     "metadata": {},
     "output_type": "execute_result"
    }
   ],
   "source": [
    "lm = LanguageModel()\n",
    "lm.getStartWordsFrequency()[\"a\"]"
   ]
  },
  {
   "cell_type": "code",
   "execution_count": 4,
   "id": "8a866ce3",
   "metadata": {},
   "outputs": [
    {
     "data": {
      "text/plain": [
       "{'a': 0,\n",
       " 'of': 5,\n",
       " 'peck': 21,\n",
       " 'peppers': 119,\n",
       " 'peter': 28,\n",
       " 'picked': 98,\n",
       " 'pickled': 19,\n",
       " 'piper': 37,\n",
       " 'the': 0,\n",
       " \"where's\": 2}"
      ]
     },
     "execution_count": 4,
     "metadata": {},
     "output_type": "execute_result"
    }
   ],
   "source": [
    "lm.getEndWordsFrequency()"
   ]
  },
  {
   "cell_type": "code",
   "execution_count": null,
   "id": "51a4c8ea",
   "metadata": {},
   "outputs": [],
   "source": []
  },
  {
   "cell_type": "code",
   "execution_count": null,
   "id": "d5394783",
   "metadata": {},
   "outputs": [],
   "source": []
  }
 ],
 "metadata": {
  "kernelspec": {
   "display_name": "Python 3 (ipykernel)",
   "language": "python",
   "name": "python3"
  },
  "language_info": {
   "codemirror_mode": {
    "name": "ipython",
    "version": 3
   },
   "file_extension": ".py",
   "mimetype": "text/x-python",
   "name": "python",
   "nbconvert_exporter": "python",
   "pygments_lexer": "ipython3",
   "version": "3.7.16"
  }
 },
 "nbformat": 4,
 "nbformat_minor": 5
}
