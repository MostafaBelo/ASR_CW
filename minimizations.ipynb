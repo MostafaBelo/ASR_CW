{
 "cells": [
  {
   "cell_type": "code",
   "execution_count": 1,
   "id": "8b8e61fc",
   "metadata": {},
   "outputs": [
    {
     "name": "stdout",
     "output_type": "stream",
     "text": [
      "[['a', ['ah']], ['a', ['ey']], ['of', ['ah', 'v']], ['peck', ['p', 'eh', 'k']], ['peppers', ['p', 'eh', 'p', 'er', 'z']], ['peter', ['p', 'iy', 't', 'er']], ['picked', ['p', 'ih', 'k', 't']], ['pickled', ['p', 'ih', 'k', 'ah', 'l', 'd']], ['piper', ['p', 'ay', 'p', 'er']], ['the', ['dh', 'ah']], ['the', ['dh', 'iy']], [\"where's\", ['w', 'eh', 'r', 'z']]]\n"
     ]
    }
   ],
   "source": [
    "words = []\n",
    "f = open(\"lexicon.txt\")\n",
    "data = f.read().strip()\n",
    "f.close()\n",
    "\n",
    "for line in data.split(\"\\n\"):\n",
    "    line = line.split(\" \")\n",
    "    words.append([line[0], line[1:]])\n",
    "    \n",
    "print(words)"
   ]
  },
  {
   "cell_type": "code",
   "execution_count": 124,
   "id": "de74db4c",
   "metadata": {},
   "outputs": [],
   "source": [
    "class Node:\n",
    "    def __init__(self, data: str, out_lbl = \"\"):\n",
    "        self.data = data\n",
    "        self.children = []\n",
    "        self.out_lbl = out_lbl\n",
    "    \n",
    "    def add_child(self, child_data):\n",
    "        child = Node(child_data)\n",
    "        self.children.append(child)\n",
    "        return child\n",
    "        \n",
    "    def add_parent(self, parent):\n",
    "        parent.add_child(self)\n",
    "        \n",
    "    def find_child(self, data):\n",
    "        for child in self.children:\n",
    "            if child.data == data:\n",
    "                return child\n",
    "        \n",
    "        return None\n",
    "    \n",
    "    def get_child(self, data):\n",
    "        child = self.find_child(data)\n",
    "        if child != None:\n",
    "            return child\n",
    "        \n",
    "        child = self.add_child(data)\n",
    "        return child\n",
    "    \n",
    "    def set_out_lbl(self, out_lbl):\n",
    "        self.out_lbl = out_lbl\n",
    "        \n",
    "    def child_count(self):\n",
    "        return len(self.children)\n",
    "    \n",
    "    def is_branching(self):\n",
    "        return self.child_count > 1\n",
    "    \n",
    "    def get_repr(self):\n",
    "        tab_str = \"----\"\n",
    "        res = f\"{self.data}({self.out_lbl})\"\n",
    "        for child in self.children:\n",
    "            child_data = f\"\\n{tab_str}\".join(str(child).split(\"\\n\"))\n",
    "            res += f\"\\n{tab_str}{child_data}\"\n",
    "        return res\n",
    "    \n",
    "    def __str__(self):\n",
    "        return self.get_repr()\n",
    "\n",
    "    def __repr__(self):\n",
    "        return self.get_repr()"
   ]
  },
  {
   "cell_type": "code",
   "execution_count": 119,
   "id": "3f17fab6",
   "metadata": {},
   "outputs": [],
   "source": [
    "root = Node(\"root\")\n",
    "# root = None\n",
    "tail = Node(\"\")"
   ]
  },
  {
   "cell_type": "code",
   "execution_count": 122,
   "id": "91e2ae81",
   "metadata": {},
   "outputs": [],
   "source": [
    "for word in words:\n",
    "    current = root\n",
    "    for phone in word[1]:\n",
    "        current = current.get_child(phone)\n",
    "    current.set_out_lbl(word[0])"
   ]
  },
  {
   "cell_type": "code",
   "execution_count": 123,
   "id": "3038b54c",
   "metadata": {},
   "outputs": [
    {
     "name": "stdout",
     "output_type": "stream",
     "text": [
      "root()\n",
      "----ah(a)\n",
      "--------v(of)\n",
      "----ey(a)\n",
      "----p()\n",
      "--------eh()\n",
      "------------k(peck)\n",
      "------------p()\n",
      "----------------er()\n",
      "--------------------z(peppers)\n",
      "--------iy()\n",
      "------------t()\n",
      "----------------er(peter)\n",
      "--------ih()\n",
      "------------k()\n",
      "----------------t(picked)\n",
      "----------------ah()\n",
      "--------------------l()\n",
      "------------------------d(pickled)\n",
      "--------ay()\n",
      "------------p()\n",
      "----------------er(piper)\n",
      "----dh()\n",
      "--------ah(the)\n",
      "--------iy(the)\n",
      "----w()\n",
      "--------eh()\n",
      "------------r()\n",
      "----------------z(where's)\n"
     ]
    }
   ],
   "source": [
    "print(str(root))"
   ]
  },
  {
   "cell_type": "code",
   "execution_count": null,
   "id": "528cd968",
   "metadata": {},
   "outputs": [],
   "source": [
    "starts = [root]\n",
    "tails = [tail]\n",
    "\n",
    "while words:\n",
    "    for word in words:\n",
    "        \n",
    "        if len(word[1]) <= 1:\n",
    "            # handle middle merge\n",
    "            continue\n",
    "\n",
    "        # add start\n",
    "        current = root\n",
    "        for symbol in word[2]:\n",
    "            for child in current.children:\n",
    "                if child.data == symbol:\n",
    "                    current = child\n",
    "                    break\n",
    "        symbol = word[1].pop(0)\n",
    "        word[2].append(symbol)\n",
    "        \n",
    "        latest = None\n",
    "        for child in current.children:\n",
    "            if child.data == symbol:\n",
    "                latest = child\n",
    "                break\n",
    "        latest = latest if latest != None else Node(symbol)\n",
    "        current.add_child(latest)\n",
    "        word[4] = latest\n",
    "                \n",
    "        # add end\n",
    "        current = tail\n",
    "        for symbol in word[3]:\n",
    "            for child in current.children:\n",
    "                if child.data == symbol:\n",
    "                    current = child\n",
    "                    break\n",
    "        symbol = word[1].pop()\n",
    "        word[3].append(symbol)\n",
    "        latest = Node(symbol)\n",
    "        current.add_child(latest)"
   ]
  },
  {
   "cell_type": "code",
   "execution_count": null,
   "id": "a0c7ddb4",
   "metadata": {},
   "outputs": [],
   "source": []
  },
  {
   "cell_type": "code",
   "execution_count": null,
   "id": "e55f2db0",
   "metadata": {},
   "outputs": [],
   "source": []
  }
 ],
 "metadata": {
  "kernelspec": {
   "display_name": "Python 3 (ipykernel)",
   "language": "python",
   "name": "python3"
  },
  "language_info": {
   "codemirror_mode": {
    "name": "ipython",
    "version": 3
   },
   "file_extension": ".py",
   "mimetype": "text/x-python",
   "name": "python",
   "nbconvert_exporter": "python",
   "pygments_lexer": "ipython3",
   "version": "3.7.16"
  }
 },
 "nbformat": 4,
 "nbformat_minor": 5
}
