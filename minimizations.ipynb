{
 "cells": [
  {
   "cell_type": "code",
   "execution_count": 1,
   "id": "8b8e61fc",
   "metadata": {},
   "outputs": [
    {
     "name": "stdout",
     "output_type": "stream",
     "text": [
      "[['a', ['ah']], ['a', ['ey']], ['of', ['ah', 'v']], ['peck', ['p', 'eh', 'k']], ['peppers', ['p', 'eh', 'p', 'er', 'z']], ['peter', ['p', 'iy', 't', 'er']], ['picked', ['p', 'ih', 'k', 't']], ['pickled', ['p', 'ih', 'k', 'ah', 'l', 'd']], ['piper', ['p', 'ay', 'p', 'er']], ['the', ['dh', 'ah']], ['the', ['dh', 'iy']], [\"where's\", ['w', 'eh', 'r', 'z']]]\n"
     ]
    }
   ],
   "source": [
    "words = []\n",
    "f = open(\"lexicon.txt\")\n",
    "data = f.read().strip()\n",
    "f.close()\n",
    "\n",
    "for line in data.split(\"\\n\"):\n",
    "    line = line.split(\" \")\n",
    "    words.append([line[0], line[1:]])\n",
    "    \n",
    "print(words)"
   ]
  },
  {
   "cell_type": "code",
   "execution_count": 38,
   "id": "de74db4c",
   "metadata": {},
   "outputs": [],
   "source": [
    "class Node:\n",
    "    def __init__(self, data: str, out_lbl = \"\"):\n",
    "        self.data = data\n",
    "        self.children = []\n",
    "        self.out_lbl = out_lbl\n",
    "        self.words_below = []\n",
    "    \n",
    "    def add_child(self, child_data):\n",
    "        child = Node(child_data)\n",
    "        \n",
    "        if not(self.is_branching()) and self.out_lbl != \"\":\n",
    "            eps_child = Node(\"eps\")\n",
    "            eps_child.set_out_lbl(self.out_lbl)\n",
    "            self.set_out_lbl(\"\")\n",
    "            eps_child.add_word_below(self.words_below[0])\n",
    "            self.children.append(eps_child)\n",
    "            \n",
    "        self.children.append(child)\n",
    "        return child\n",
    "        \n",
    "    def add_parent(self, parent):\n",
    "        parent.add_child(self)\n",
    "        \n",
    "    def find_child(self, data):\n",
    "        for child in self.children:\n",
    "            if child.data == data:\n",
    "                return child\n",
    "        \n",
    "        return None\n",
    "    \n",
    "    def get_child(self, data):\n",
    "        child = self.find_child(data)\n",
    "        if child != None:\n",
    "            return child\n",
    "        \n",
    "        child = self.add_child(data)\n",
    "        return child\n",
    "    \n",
    "    def set_out_lbl(self, out_lbl):\n",
    "        self.out_lbl = out_lbl\n",
    "        \n",
    "    def child_count(self):\n",
    "        return len(self.children)\n",
    "    \n",
    "    def is_branching(self):\n",
    "        return self.child_count() > 1\n",
    "    \n",
    "    def add_word_below(self, word):\n",
    "        self.words_below.append(word)\n",
    "        \n",
    "    def isLast(self):\n",
    "        return len(self.words_below) <= 1\n",
    "    def getLastWord(self):\n",
    "        if self.out_lbl != \"\":\n",
    "            return self.out_lbl\n",
    "        elif self.isLast:\n",
    "            return self.words_below[0]\n",
    "        \n",
    "        return \"\"\n",
    "    \n",
    "    def get_repr(self):\n",
    "        tab_str = \"----\"\n",
    "        res = f\"{self.data}({self.out_lbl}){self.words_below}\"\n",
    "        for child in self.children:\n",
    "            child_data = f\"\\n{tab_str}\".join(str(child).split(\"\\n\"))\n",
    "            res += f\"\\n{tab_str}{child_data}\"\n",
    "        return res\n",
    "    \n",
    "    def __str__(self):\n",
    "        return self.get_repr()\n",
    "\n",
    "    def __repr__(self):\n",
    "        return self.get_repr()"
   ]
  },
  {
   "cell_type": "code",
   "execution_count": 44,
   "id": "3f17fab6",
   "metadata": {},
   "outputs": [],
   "source": [
    "root = Node(\"root\")\n",
    "# root = None\n",
    "# tail = Node(\"\")"
   ]
  },
  {
   "cell_type": "code",
   "execution_count": 45,
   "id": "91e2ae81",
   "metadata": {},
   "outputs": [],
   "source": [
    "for word in words:\n",
    "    current = root\n",
    "    current.add_word_below(word[0])\n",
    "    for phone in word[1]:\n",
    "        current = current.get_child(phone)\n",
    "        current.add_word_below(word[0])\n",
    "    current.set_out_lbl(word[0])"
   ]
  },
  {
   "cell_type": "code",
   "execution_count": 46,
   "id": "3038b54c",
   "metadata": {},
   "outputs": [
    {
     "name": "stdout",
     "output_type": "stream",
     "text": [
      "root()['a', 'a', 'of', 'peck', 'peppers', 'peter', 'picked', 'pickled', 'piper', 'the', 'the', \"where's\"]\n",
      "----ah()['a', 'of']\n",
      "--------eps(a)['a']\n",
      "--------v(of)['of']\n",
      "----ey(a)['a']\n",
      "----p()['peck', 'peppers', 'peter', 'picked', 'pickled', 'piper']\n",
      "--------eh()['peck', 'peppers']\n",
      "------------k(peck)['peck']\n",
      "------------p()['peppers']\n",
      "----------------er()['peppers']\n",
      "--------------------z(peppers)['peppers']\n",
      "--------iy()['peter']\n",
      "------------t()['peter']\n",
      "----------------er(peter)['peter']\n",
      "--------ih()['picked', 'pickled']\n",
      "------------k()['picked', 'pickled']\n",
      "----------------t(picked)['picked']\n",
      "----------------ah()['pickled']\n",
      "--------------------l()['pickled']\n",
      "------------------------d(pickled)['pickled']\n",
      "--------ay()['piper']\n",
      "------------p()['piper']\n",
      "----------------er(piper)['piper']\n",
      "----dh()['the', 'the']\n",
      "--------ah(the)['the']\n",
      "--------iy(the)['the']\n",
      "----w()[\"where's\"]\n",
      "--------eh()[\"where's\"]\n",
      "------------r()[\"where's\"]\n",
      "----------------z(where's)[\"where's\"]\n"
     ]
    }
   ],
   "source": [
    "print(str(root))"
   ]
  }
 ],
 "metadata": {
  "kernelspec": {
   "display_name": "Python 3 (ipykernel)",
   "language": "python",
   "name": "python3"
  },
  "language_info": {
   "codemirror_mode": {
    "name": "ipython",
    "version": 3
   },
   "file_extension": ".py",
   "mimetype": "text/x-python",
   "name": "python",
   "nbconvert_exporter": "python",
   "pygments_lexer": "ipython3",
   "version": "3.7.16"
  }
 },
 "nbformat": 4,
 "nbformat_minor": 5
}
