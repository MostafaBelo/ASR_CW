{
 "cells": [
  {
   "cell_type": "code",
   "execution_count": 8,
   "id": "8b8e61fc",
   "metadata": {},
   "outputs": [
    {
     "name": "stdout",
     "output_type": "stream",
     "text": [
      "[['a', ['ah']], ['a', ['ey']], ['of', ['ah', 'v']], ['peck', ['p', 'eh', 'k']], ['peppers', ['p', 'eh', 'p', 'er', 'z']], ['peter', ['p', 'iy', 't', 'er']], ['picked', ['p', 'ih', 'k', 't']], ['pickled', ['p', 'ih', 'k', 'ah', 'l', 'd']], ['piper', ['p', 'ay', 'p', 'er']], ['the', ['dh', 'ah']], ['the', ['dh', 'iy']], [\"where's\", ['w', 'eh', 'r', 'z']]]\n"
     ]
    }
   ],
   "source": [
    "words = []\n",
    "f = open(\"lexicon.txt\")\n",
    "data = f.read().strip()\n",
    "f.close()\n",
    "\n",
    "for line in data.split(\"\\n\"):\n",
    "    line = line.split(\" \")\n",
    "    words.append([line[0], line[1:], [], [], None, None])\n",
    "    \n",
    "print(words)"
   ]
  },
  {
   "cell_type": "code",
   "execution_count": 9,
   "id": "de74db4c",
   "metadata": {},
   "outputs": [],
   "source": [
    "class Node:\n",
    "    data: str = \"\"\n",
    "    children = []\n",
    "        \n",
    "    def __init__(self, data: str):\n",
    "        self.data = data\n",
    "        \n",
    "    def add_child(self, child):\n",
    "        self.children.append(child)\n",
    "        \n",
    "    def add_parent(self, parent):\n",
    "        parent.add_child(self)"
   ]
  },
  {
   "cell_type": "code",
   "execution_count": 10,
   "id": "3f17fab6",
   "metadata": {},
   "outputs": [],
   "source": [
    "root = Node(\"\")\n",
    "tail = Node(\"\")"
   ]
  },
  {
   "cell_type": "code",
   "execution_count": null,
   "id": "528cd968",
   "metadata": {},
   "outputs": [],
   "source": [
    "starts = [root]\n",
    "tails = [tail]\n",
    "\n",
    "while words:\n",
    "    for word in words:\n",
    "        \n",
    "        if len(word[1]) <= 1:\n",
    "            # handle middle merge\n",
    "            continue\n",
    "\n",
    "        # add start\n",
    "        current = root\n",
    "        for symbol in word[2]:\n",
    "            for child in current.children:\n",
    "                if child.data == symbol:\n",
    "                    current = child\n",
    "                    break\n",
    "        symbol = word[1].pop(0)\n",
    "        word[2].append(symbol)\n",
    "        \n",
    "        latest = None\n",
    "        for child in current.children:\n",
    "            if child.data == symbol:\n",
    "                latest = child\n",
    "                break\n",
    "        latest = latest if latest != None else Node(symbol)\n",
    "        current.add_child(latest)\n",
    "        word[4] = latest\n",
    "                \n",
    "        # add end\n",
    "        current = tail\n",
    "        for symbol in word[3]:\n",
    "            for child in current.children:\n",
    "                if child.data == symbol:\n",
    "                    current = child\n",
    "                    break\n",
    "        symbol = word[1].pop()\n",
    "        word[3].append(symbol)\n",
    "        latest = Node(symbol)\n",
    "        current.add_child(latest)"
   ]
  }
 ],
 "metadata": {
  "kernelspec": {
   "display_name": "Python 3 (ipykernel)",
   "language": "python",
   "name": "python3"
  },
  "language_info": {
   "codemirror_mode": {
    "name": "ipython",
    "version": 3
   },
   "file_extension": ".py",
   "mimetype": "text/x-python",
   "name": "python",
   "nbconvert_exporter": "python",
   "pygments_lexer": "ipython3",
   "version": "3.7.16"
  }
 },
 "nbformat": 4,
 "nbformat_minor": 5
}
